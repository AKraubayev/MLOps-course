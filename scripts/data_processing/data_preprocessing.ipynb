{
 "cells": [
  {
   "cell_type": "code",
   "execution_count": 1,
   "id": "07e070b2",
   "metadata": {},
   "outputs": [],
   "source": [
    "import pandas as pd"
   ]
  },
  {
   "cell_type": "code",
   "execution_count": 3,
   "id": "400c4989",
   "metadata": {},
   "outputs": [
    {
     "name": "stdout",
     "output_type": "stream",
     "text": [
      "/home/mlops/git/MLOps-course/scripts/data_processing\r\n"
     ]
    }
   ],
   "source": [
    "!pwd"
   ]
  },
  {
   "cell_type": "code",
   "execution_count": 6,
   "id": "36184901",
   "metadata": {},
   "outputs": [],
   "source": [
    "train = pd.read_csv(\"../../data/raw/train.csv\", index_col=0)\n",
    "test = pd.read_csv(\"../../data/raw/test.csv\", index_col=0)"
   ]
  },
  {
   "cell_type": "code",
   "execution_count": 7,
   "id": "f5d41908",
   "metadata": {},
   "outputs": [],
   "source": [
    "train['Sex'] = train['Sex'].replace({'male':1, 'female':0})\n",
    "test['Sex'] = test['Sex'].replace({'male':1, 'female':0})\n",
    "\n",
    "train['Age'].fillna(train['Age'].mean(), inplace=True)\n",
    "test['Age'].fillna(test['Age'].mean(), inplace=True)"
   ]
  },
  {
   "cell_type": "code",
   "execution_count": 8,
   "id": "c30a592c",
   "metadata": {},
   "outputs": [],
   "source": [
    "feature_list = ['Pclass', 'Sex', 'Age', 'SibSp', 'Parch']"
   ]
  },
  {
   "cell_type": "code",
   "execution_count": 10,
   "id": "24090083",
   "metadata": {},
   "outputs": [],
   "source": [
    "train[feature_list].to_csv(\"../../data/baselines/train.csv\", columns=feature_list)"
   ]
  },
  {
   "cell_type": "code",
   "execution_count": 11,
   "id": "d49d665d",
   "metadata": {},
   "outputs": [],
   "source": [
    "test[feature_list].to_csv(\"../../data/baselines/test.csv\", columns=feature_list)"
   ]
  },
  {
   "cell_type": "code",
   "execution_count": null,
   "id": "436da283",
   "metadata": {},
   "outputs": [],
   "source": []
  }
 ],
 "metadata": {
  "kernelspec": {
   "display_name": "Python 3 (ipykernel)",
   "language": "python",
   "name": "python3"
  },
  "language_info": {
   "codemirror_mode": {
    "name": "ipython",
    "version": 3
   },
   "file_extension": ".py",
   "mimetype": "text/x-python",
   "name": "python",
   "nbconvert_exporter": "python",
   "pygments_lexer": "ipython3",
   "version": "3.10.6"
  }
 },
 "nbformat": 4,
 "nbformat_minor": 5
}
